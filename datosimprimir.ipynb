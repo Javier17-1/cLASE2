{
  "nbformat": 4,
  "nbformat_minor": 0,
  "metadata": {
    "colab": {
      "provenance": [],
      "authorship_tag": "ABX9TyO9R0mSSf7g51FxmJpec+Xg",
      "include_colab_link": true
    },
    "kernelspec": {
      "name": "python3",
      "display_name": "Python 3"
    },
    "language_info": {
      "name": "python"
    }
  },
  "cells": [
    {
      "cell_type": "markdown",
      "metadata": {
        "id": "view-in-github",
        "colab_type": "text"
      },
      "source": [
        "<a href=\"https://colab.research.google.com/github/Javier17-1/cLASE2/blob/main/datosimprimir.ipynb\" target=\"_parent\"><img src=\"https://colab.research.google.com/assets/colab-badge.svg\" alt=\"Open In Colab\"/></a>"
      ]
    },
    {
      "cell_type": "code",
      "execution_count": 4,
      "metadata": {
        "colab": {
          "base_uri": "https://localhost:8080/"
        },
        "id": "JoZVCTDBP6s6",
        "outputId": "54556888-9867-48dc-8cd0-57a7250f17d2"
      },
      "outputs": [
        {
          "output_type": "execute_result",
          "data": {
            "text/plain": [
              "True"
            ]
          },
          "metadata": {},
          "execution_count": 4
        }
      ],
      "source": [
        "(15 <= 7 * 3 ** 2 and 15 < 6) or not (7 * 3 < 5 + 12 * 2 // 3 ** 2)\n"
      ]
    },
    {
      "cell_type": "markdown",
      "source": [
        "14 - (7 + 4 * 3 -[(-2) * 2 * 2 - 6)] + (22 + 6 - 5 * 3)+ 3 - (5 - 23div2)\n",
        "\n",
        "14-(7+4*3-[-4*2-6)]+(28-15)+3-(5-11)\n",
        "\n",
        "14-(7+4*3-[(-8-6)]+(13)+3-(-6)\n",
        "\n",
        "14-(7+12-[(-14)]+(13)+3-(-6)\n",
        "\n",
        "14-(19-[(-14)]+(13)+3(-6)\n",
        "\n",
        "14-33+13+3-(-6)\n",
        "\n",
        "-19+13+3-(-6)\n",
        "\n",
        "-6+3-(-6)\n",
        "\n",
        "-3-(-6)\n",
        "\n",
        "3\n",
        "\n",
        "\n",
        "-> Solicitar un dato inicial\n",
        "-> Requerir dato de entrada\n",
        "\n",
        "leer <Datom dato2, dato3,...>\n",
        "\n",
        "leer datos es faci con la funcion: input()\n",
        "#Esto no devolvera una cadena de texto\n",
        "#La cual debemos capturar en alguna variable\n",
        "\n",
        "texto=input()\n",
        "\n",
        "#Tambien input puede tener un parametro indicado por el usuario\n",
        "#que debe ingresar.\n",
        "\n",
        "mas=input(\"Ingrese mes. \")\n",
        "\n",
        "#Conversiones de tipo de dato\n",
        "#La funcion input()  retorna un texto\n",
        "#Sino ueremos que retorne un texto y sea uno entero tnemos que convertirñlo\n",
        "#Usando la funcion int()\n",
        "\n",
        "numero=input()  #Esto es un numero ne cadena string(cadena)\n",
        "entero=int(numero)\n",
        "\n",
        "numero=input()\n",
        "decimal=float(input())\n",
        "\n",
        "##Asignar\n",
        "Variable<-<valor>\n",
        "\n",
        "numero=5 #Esto asigna 5 a la variable\n",
        "\n",
        "##ESCRIBIR\n",
        "->Maotar resultado\n",
        "-> Visualizar el resultado\n",
        "->Imprimir el resultado\n",
        "\n",
        "Escribir <Valor Resultante>\n",
        "\n",
        "numero=5\n",
        "print(numero)\n",
        "\n",
        "dia=15\n",
        "mes=\"Septiembre\"\n",
        "anio=\"2024\"\n",
        "\n",
        "print(dia,mes,anio)\n",
        "print(\"dia:{} mes:{} anio:{}\".format(dia,mes,anio))\n",
        "\n"
      ],
      "metadata": {
        "id": "HJN4E8HkTBfN"
      }
    },
    {
      "cell_type": "code",
      "source": [
        "dia=15\n",
        "mes=\"Septiembre\"\n",
        "anio=\"2024\"\n",
        "\n",
        "print(dia,mes,anio)\n",
        "print(\"dia:{} mes:{} anio:{}\".format(dia,mes,anio))"
      ],
      "metadata": {
        "colab": {
          "base_uri": "https://localhost:8080/"
        },
        "id": "tu7tmYi2aCyq",
        "outputId": "e1a36244-14e6-4a3d-f285-a1a450480070"
      },
      "execution_count": 6,
      "outputs": [
        {
          "output_type": "stream",
          "name": "stdout",
          "text": [
            "15 Septiembre 2024\n",
            "dia:15 mes:Septiembre anio:2024\n"
          ]
        }
      ]
    }
  ]
}