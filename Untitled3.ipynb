{
  "nbformat": 4,
  "nbformat_minor": 0,
  "metadata": {
    "colab": {
      "provenance": [],
      "authorship_tag": "ABX9TyOmg4aXVFYhuCxSgf0erM7n",
      "include_colab_link": true
    },
    "kernelspec": {
      "name": "python3",
      "display_name": "Python 3"
    },
    "language_info": {
      "name": "python"
    }
  },
  "cells": [
    {
      "cell_type": "markdown",
      "metadata": {
        "id": "view-in-github",
        "colab_type": "text"
      },
      "source": [
        "<a href=\"https://colab.research.google.com/github/Javier17-1/cLASE2/blob/main/Untitled3.ipynb\" target=\"_parent\"><img src=\"https://colab.research.google.com/assets/colab-badge.svg\" alt=\"Open In Colab\"/></a>"
      ]
    },
    {
      "cell_type": "code",
      "execution_count": 2,
      "metadata": {
        "colab": {
          "base_uri": "https://localhost:8080/"
        },
        "id": "JkkpIjzOassA",
        "outputId": "e9a97163-d555-4c9e-d2c9-1de3edc79061"
      },
      "outputs": [
        {
          "output_type": "stream",
          "name": "stdout",
          "text": [
            "Ejemplo de Condiciones  Simples\n",
            "Ingrese unnumoero: \n",
            "999\n",
            "El numnero es mayor a 100\n"
          ]
        }
      ],
      "source": [
        "print(\"Ejemplo de Condiciones  Simples\")\n",
        "print(\"Ingrese unnumoero: \")\n",
        "x=int(input())\n",
        "\n",
        "if  x<100:\n",
        "  print(\"El numeor es menor a 100\")\n",
        "\n"
      ]
    },
    {
      "cell_type": "markdown",
      "source": [
        "##Estructuras selectitvas\n",
        "\n",
        "Las estructuras selectivas tambien conocidas como logicas selecteivas.\n",
        "\n",
        "#Señalan un camino alternativo a seguir\n",
        "\n",
        "- Simples\n",
        "- Doble\n",
        "- Triple\n",
        "\n",
        "#Estructura simple\n",
        "\n",
        "sI <condicion>  entonces\n",
        "<operaciones o acciones>\n",
        "..\n",
        "fin si\n",
        "\n",
        "##Estrcutrura Selectiva Doble\n",
        "Si <condicion> entonces\n",
        " <acciones tipo 1>\n",
        "si no\n",
        "<acciones tipo 2>\n",
        "\n",
        " fin si\n"
      ],
      "metadata": {
        "id": "EtwT6ZjoatQW"
      }
    },
    {
      "cell_type": "code",
      "source": [
        "print(\"ejemplo de condicion Doble\")\n",
        "print(\"ingrese dos numeros: \")\n",
        "x=int(input())\n",
        "y=int(input())\n",
        "\n",
        "if x>y:\n",
        "  print(\"El menor es: \", y)\n",
        "else :\n",
        "  print(\"El menor es: \",x)\n",
        "\n",
        "\n"
      ],
      "metadata": {
        "colab": {
          "base_uri": "https://localhost:8080/"
        },
        "id": "yupKAp8edBS1",
        "outputId": "869bfee0-1670-45bb-e8aa-0ea1e642ea5c"
      },
      "execution_count": 4,
      "outputs": [
        {
          "output_type": "stream",
          "name": "stdout",
          "text": [
            "ejemplo de condicion Doble\n",
            "ingrese dos numeros: \n",
            "4\n",
            "8\n",
            "El menor es:  4\n"
          ]
        }
      ]
    },
    {
      "cell_type": "markdown",
      "source": [
        "##EStructura Selectiva Multiple\n",
        "\n",
        "si <selector> igual\n",
        " <valor>: <operacion 1>\n",
        " <valor 2>: <operacion 2>\n",
        " ...\n",
        " ...\n",
        " [<En otro caso>:<operacion n+1>]\n",
        "\n",
        " fin selector"
      ],
      "metadata": {
        "id": "BPyDLAVTeDyk"
      }
    },
    {
      "cell_type": "code",
      "source": [
        "from ast import arguments\n",
        "print(\"Ejemplo de condiconal Multiple\")\n",
        "switcher={\n",
        "     1:\"Enero\",\n",
        "     2:\"Febrero\",\n",
        "     3:\"Marzo\",\n",
        "     4:\"Abril\",\n",
        "     5:\"Mayo\",\n",
        "     6:\"Junio\",\n",
        "     7:\"Julio\",\n",
        "     8:\"Agosto\",\n",
        "     9:\"Septiembre\",\n",
        "     10:\"Octubre\",\n",
        "     11:\"Noviembre\",\n",
        "     12:\"Diciembre\"\n",
        "\n",
        " }\n",
        "\n",
        "argument = int(input(\"Ingrese un numero de mes a mostrar: \"))\n",
        "nombreMes = switcher.get(argument, \"Mes Invalido\")\n",
        "print(nombreMes)\n",
        "input(\"presione una tecla para salir\")\n"
      ],
      "metadata": {
        "colab": {
          "base_uri": "https://localhost:8080/",
          "height": 105
        },
        "id": "pLtHcIjjex5j",
        "outputId": "211a7c70-5ae6-4221-cc85-3760d68d0ebf"
      },
      "execution_count": 7,
      "outputs": [
        {
          "name": "stdout",
          "output_type": "stream",
          "text": [
            "Ejemplo de condiconal Multiple\n",
            "Ingrese un numero de mes a mostrar: 12\n",
            "Diciembre\n",
            "presione una tecla para salir8\n"
          ]
        },
        {
          "output_type": "execute_result",
          "data": {
            "text/plain": [
              "'8'"
            ],
            "application/vnd.google.colaboratory.intrinsic+json": {
              "type": "string"
            }
          },
          "metadata": {},
          "execution_count": 7
        }
      ]
    },
    {
      "cell_type": "markdown",
      "source": [
        "Escribir un programa que dado el suelde de un trabajadaro; aplique un aumento de 15% si este es inferior a $10,000.Imprima el sueldo total que recibira\n",
        "\n"
      ],
      "metadata": {
        "id": "fn-ZAF1nhAw0"
      }
    },
    {
      "cell_type": "code",
      "source": [
        "from sys import audit\n",
        "print(\"-----Sueldo y aumento-----\")\n",
        "\n",
        "print(\"Dame el sueldo del trabajador: \")\n",
        "s=float(input())\n",
        "\n",
        "if s<10000:\n",
        "  au=s*.15\n",
        "  sf=s+au\n",
        "  print(\"El aumento es de :\",au)\n",
        "  print(\"El sueldo final es de: \",sf)\n",
        "  print(\"Recibio el aumento\")\n",
        "\n",
        "else:\n",
        "  print(\"Gana sufieciente no sea avaro, no recibe aumento\")\n"
      ],
      "metadata": {
        "colab": {
          "base_uri": "https://localhost:8080/"
        },
        "id": "Td7JRmuDhbo6",
        "outputId": "101cc584-8b00-4579-b495-88e999fd2c38"
      },
      "execution_count": 10,
      "outputs": [
        {
          "output_type": "stream",
          "name": "stdout",
          "text": [
            "-----Sueldo y aumento-----\n",
            "Dame el sueldo del trabajador: \n",
            "6000\n",
            "El aumento es de : 900.0\n",
            "El sueldo final es de:  6900.0\n",
            "Recibio el aumento\n"
          ]
        }
      ]
    },
    {
      "cell_type": "markdown",
      "source": [
        "##Escribir un programa que determine si un año leido desde el teclado es o no bisiesto"
      ],
      "metadata": {
        "id": "MlKbsP50j2Xy"
      }
    },
    {
      "cell_type": "code",
      "source": [
        "print(\"-----Año bisiesto-----\")\n",
        "print(\"Dame un año :\")\n",
        "a=int(input())\n",
        "\n",
        "if (a%400==0)or(a%4==0)and(a%100!=0):\n",
        "  print(\"El año SI es bisiesto\")\n",
        "else:\n",
        "  print(\"El año NO es bisiesto\")"
      ],
      "metadata": {
        "colab": {
          "base_uri": "https://localhost:8080/"
        },
        "id": "nifRr98XkGEJ",
        "outputId": "381e027e-f59c-498d-ddaa-e7613d90aefd"
      },
      "execution_count": 25,
      "outputs": [
        {
          "output_type": "stream",
          "name": "stdout",
          "text": [
            "-----Año bisiesto-----\n",
            "Dame un año :\n",
            "2444\n",
            "El año SI es bisiesto\n"
          ]
        }
      ]
    }
  ]
}