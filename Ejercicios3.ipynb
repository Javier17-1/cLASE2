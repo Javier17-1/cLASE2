{
  "nbformat": 4,
  "nbformat_minor": 0,
  "metadata": {
    "colab": {
      "provenance": [],
      "authorship_tag": "ABX9TyNaHHehWGwowaRr+quOBEjn",
      "include_colab_link": true
    },
    "kernelspec": {
      "name": "python3",
      "display_name": "Python 3"
    },
    "language_info": {
      "name": "python"
    }
  },
  "cells": [
    {
      "cell_type": "markdown",
      "metadata": {
        "id": "view-in-github",
        "colab_type": "text"
      },
      "source": [
        "<a href=\"https://colab.research.google.com/github/Javier17-1/cLASE2/blob/main/Ejercicios3.ipynb\" target=\"_parent\"><img src=\"https://colab.research.google.com/assets/colab-badge.svg\" alt=\"Open In Colab\"/></a>"
      ]
    },
    {
      "cell_type": "code",
      "execution_count": 2,
      "metadata": {
        "colab": {
          "base_uri": "https://localhost:8080/"
        },
        "id": "Xg7-j1U3V2bn",
        "outputId": "bba3b488-9abd-477e-fcef-bcb6cc525d6e"
      },
      "outputs": [
        {
          "output_type": "stream",
          "name": "stdout",
          "text": [
            "---------------------------------------------------------------------------------\n",
            "------------------PUNTAJE FINAL DEL EQUIPO LEAL ALBAÑIL -------------------------\n",
            "---------------------------------------------------------------------------------\n",
            "Ingresa el numero de PARTIDOS GANADOS, PARTIDOS EMPATADOS y PARTIDOS PERDIDOS\n",
            "Partidos Ganados:12\n",
            "Partidos Perdidos:6\n",
            "Partidos Empatados:1\n",
            "El puntaje el final del esquipo es:  37\n"
          ]
        }
      ],
      "source": [
        "print(\"---------------------------------------------------------------------------------\")\n",
        "print(\"------------------PUNTAJE FINAL DEL EQUIPO LEAL ALBAÑIL -------------------------\")\n",
        "print(\"---------------------------------------------------------------------------------\")\n",
        "\n",
        "print(\"Ingresa el numero de PARTIDOS GANADOS, PARTIDOS EMPATADOS y PARTIDOS PERDIDOS\")\n",
        "pg = int(input(\"Partidos Ganados:\"))\n",
        "pp = int(input(\"Partidos Perdidos:\"))\n",
        "pe = int(input(\"Partidos Empatados:\"))\n",
        "\n",
        "puntaje = (pg*3)+(pe*1)+(pp*0)\n",
        "\n",
        "print(\"El puntaje el final del esquipo es: \",puntaje)\n"
      ]
    },
    {
      "cell_type": "markdown",
      "source": [
        "  Escribir un programa que dado como datos el radio y la altura de un cilindr, calcular e imprimir el area y el volumen del mismo"
      ],
      "metadata": {
        "id": "lRJ20HkGcFpJ"
      }
    },
    {
      "cell_type": "code",
      "source": [
        "\n",
        "pi=3.1416\n",
        "\n",
        "print(\"Ingresa el radio y la altura del cilindro\")\n",
        "r=float(input(\"Radio:\"))\n",
        "a=float(input(\"Altura:\"))\n",
        "vol=pi*r**2*a\n",
        "area=2*pi*(r+a)\n",
        "print(\"El volumen del cilindro es: \",vol)\n",
        "print(\"El area del cilindro es \",area)\n"
      ],
      "metadata": {
        "colab": {
          "base_uri": "https://localhost:8080/"
        },
        "id": "XjaSKLcNdAZd",
        "outputId": "e447428a-96e3-45c9-b8a7-f1276bf26774"
      },
      "execution_count": 11,
      "outputs": [
        {
          "output_type": "stream",
          "name": "stdout",
          "text": [
            "---------------------------------------------------------------------------------\n",
            "------------------VOLUMEN DE UN CILINDRO -------------------------------------------\n",
            "---------------------------------------------------------------------------------\n",
            "Ingresa el radio y la altura del cilindro\n",
            "Radio:25\n",
            "Altura:6\n",
            "El volumen del cilindro es:  11781.0\n",
            "El area del cilindro es  194.7792\n"
          ]
        }
      ]
    },
    {
      "cell_type": "markdown",
      "source": [
        "escribir un programa que calcule el perimetro de un triangulo equilatero, teniendo como dato de entrada al altura"
      ],
      "metadata": {
        "id": "SuoRvElkjK0e"
      }
    },
    {
      "cell_type": "code",
      "source": [
        "print(\"---------------------------------------------------------------------------------\")\n",
        "print(\"------------------PERIMETRO DE UN TRIANGULO EQUILATERO---------------------------\")\n",
        "print(\"---------------------------------------------------------------------------------\")\n",
        "\n",
        "print(\"Ingresa la altura del triangulo equilatero\")\n",
        "a=float(input(\"La altura es:\"))\n",
        "p=2*a*3**0.5\n",
        "print(\"El perimetro del triangulo es:\",p)"
      ],
      "metadata": {
        "colab": {
          "base_uri": "https://localhost:8080/"
        },
        "id": "5b3B7qCDjT3O",
        "outputId": "9509b871-b318-4b84-f598-ebff0c892ec2"
      },
      "execution_count": 16,
      "outputs": [
        {
          "output_type": "stream",
          "name": "stdout",
          "text": [
            "---------------------------------------------------------------------------------\n",
            "------------------PERIMETRO DE UN TRIANGULO EQUILATERO---------------------------\n",
            "---------------------------------------------------------------------------------\n",
            "Ingresa la altura del triangulo equilatero\n",
            "La altura es:4\n",
            "El perimetro del triangulo es: 13.856406460551018\n"
          ]
        }
      ]
    },
    {
      "cell_type": "markdown",
      "source": [
        "Elaborar un programa que permita ingresar el numero de partidos ganados, perdidos y empatados del club de futbol \"leal abalañil\" en el torneo apertura 2024, se debe mostrar el puntaje final tebniendo en cyunata que por cada partido gando obtendar 3 puntos, 1 por empates y 0 por perder"
      ],
      "metadata": {
        "id": "tWaTtz2hXrWx"
      }
    }
  ]
}