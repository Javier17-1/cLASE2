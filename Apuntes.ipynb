{
  "nbformat": 4,
  "nbformat_minor": 0,
  "metadata": {
    "colab": {
      "provenance": [],
      "authorship_tag": "ABX9TyPMNUCUYEfmRFXz9bi4RiE/",
      "include_colab_link": true
    },
    "kernelspec": {
      "name": "python3",
      "display_name": "Python 3"
    },
    "language_info": {
      "name": "python"
    }
  },
  "cells": [
    {
      "cell_type": "markdown",
      "metadata": {
        "id": "view-in-github",
        "colab_type": "text"
      },
      "source": [
        "<a href=\"https://colab.research.google.com/github/Javier17-1/cLASE2/blob/main/Apuntes.ipynb\" target=\"_parent\"><img src=\"https://colab.research.google.com/assets/colab-badge.svg\" alt=\"Open In Colab\"/></a>"
      ]
    },
    {
      "cell_type": "code",
      "execution_count": 4,
      "metadata": {
        "colab": {
          "base_uri": "https://localhost:8080/"
        },
        "id": "OnkXPPqdApT_",
        "outputId": "198b0b11-dea1-4a1a-ba58-26909f6c3d83"
      },
      "outputs": [
        {
          "output_type": "stream",
          "name": "stdout",
          "text": [
            "10\n",
            "11\n",
            "3.1416\n",
            "1\n",
            "False\n",
            "Hola mundo\n",
            "Javier\n",
            "a\n",
            "b\n"
          ]
        }
      ],
      "source": [
        "#Tipos de Vairable en Phyton\n",
        "#El tipo de variable estara determinado por el tipo de dato que almacena\n",
        "#Enteros: vasta agregar un valor entero\n",
        "\n",
        "a=10\n",
        "b=11\n",
        "#c=a+b\n",
        "#print(c)\n",
        "\n",
        "#Decimales: deben agregarce un numero con punto flotante\n",
        "c= 3.1416\n",
        "\n",
        "#Booleanos: Datos con verdadero y falso\n",
        "#Se puede usar palabras: True y False\n",
        "\n",
        "verdad= True\n",
        "falso= False\n",
        "\n",
        "verdad=1\n",
        "flaso=0\n",
        "\n",
        "#Texto o cadena: string\n",
        "\n",
        "saludo=\"Hola mundo\"\n",
        "nombre=\"Javier\"\n",
        "\n",
        "uno='a'\n",
        "dos='b'\n",
        "\n",
        "print(a)\n",
        "print(b)\n",
        "print(c)\n",
        "print(verdad)\n",
        "print(falso)\n",
        "print(saludo)\n",
        "print(nombre)\n",
        "print(uno)\n",
        "print(dos)"
      ]
    },
    {
      "cell_type": "markdown",
      "source": [
        "**Lenguaje y Algoritmo**\n",
        "\n",
        "lenguaje de programacion\n",
        "\n",
        "\n",
        "*   C\n",
        "*   C++\n",
        "*   Java\n",
        "*  Fortan\n",
        "*  Delphie\n",
        "\n",
        "**ALGORITMO**\n",
        "\n",
        "Conjunto de pasos, procedimientpos o acciones que nos permiten alcanzar  un resultado o resolver un problema.\n",
        "\n",
        "Caracteristicas:\n",
        "\n",
        "Determinismo.\n",
        "Precision.\n",
        "Finitud.\n",
        "\n",
        "(Cairo et al., 1993)\n",
        "\n",
        "**Datos Numericos**\n",
        "\n",
        "Valores enteros y valores reales.\n",
        "Valores enteros pueden estar procedidos por los signos (+ -)\n",
        "\n",
        "128 152s - 714 8 530 -14 789\n",
        "7.5 128.0 -37.865  129.7  16  000.50\n",
        "\n",
        "**Datos Alfanumericos**\n",
        "\n",
        "* Caracter\n",
        "* Cadena\n",
        "\n",
        "(a,b,c...z)\n",
        "(o,1,2,3...9)\n",
        "(#,?,$,%,*etc)\n",
        "\n",
        "'a' 'b' '$' '9'\n",
        "\n",
        "\"abc\" \"$9#7\"  \"Heeeectoooor\"  \"Patroclo!!\" \"754-27-22\"\n",
        "\n",
        "**Datos Logicos**\n",
        "\n",
        "boolenos\n",
        "Verdadero   (true)\n",
        "Falso       (false)\n",
        "\n"
      ],
      "metadata": {
        "id": "jJ8v_Q8eA2Ks"
      }
    }
  ]
}