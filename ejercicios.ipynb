{
  "nbformat": 4,
  "nbformat_minor": 0,
  "metadata": {
    "colab": {
      "provenance": [],
      "authorship_tag": "ABX9TyNWP6HAHxXtW5e6UCa7az66",
      "include_colab_link": true
    },
    "kernelspec": {
      "name": "python3",
      "display_name": "Python 3"
    },
    "language_info": {
      "name": "python"
    }
  },
  "cells": [
    {
      "cell_type": "markdown",
      "metadata": {
        "id": "view-in-github",
        "colab_type": "text"
      },
      "source": [
        "<a href=\"https://colab.research.google.com/github/Javier17-1/cLASE2/blob/main/ejercicios.ipynb\" target=\"_parent\"><img src=\"https://colab.research.google.com/assets/colab-badge.svg\" alt=\"Open In Colab\"/></a>"
      ]
    },
    {
      "cell_type": "code",
      "execution_count": 1,
      "metadata": {
        "colab": {
          "base_uri": "https://localhost:8080/"
        },
        "id": "qX-XUDRyPdlB",
        "outputId": "2dddc307-9bfc-4711-bd4f-2c7fb5a993e8"
      },
      "outputs": [
        {
          "output_type": "stream",
          "name": "stdout",
          "text": [
            "------------------------------------------------------------------\n",
            "------------------PROGRAMA QUE CALCULA PROMEDIO-------------------\n",
            "------------------------------------------------------------------\n",
            "Igresa las 3 calificaciones del alumno N1,N2 y N3 \n",
            "N1:7\n",
            "N2:9\n",
            "N3:10\n",
            "El promedio del alumno es:  8.666666666666666\n"
          ]
        }
      ],
      "source": [
        "print(\"------------------------------------------------------------------\")\n",
        "print(\"------------------PROGRAMA QUE CALCULA PROMEDIO-------------------\")\n",
        "print(\"------------------------------------------------------------------\")\n",
        "#Datos de Entrada\n",
        "\n",
        "print(\"Igresa las 3 calificaciones del alumno N1,N2 y N3 \")\n",
        "n1 = int(input(\"N1:\"))\n",
        "n2 = int(input(\"N2:\"))\n",
        "n3 = int(input(\"N3:\"))\n",
        "\n",
        "#Proceso\n",
        "promedio = (n1+n2+n3)/3\n",
        "\n",
        "#Salida\n",
        "print(\"El promedio del alumno es: \",promedio)\n"
      ]
    },
    {
      "cell_type": "markdown",
      "source": [
        "##Ejercicio\n",
        "\n",
        "Se requiere elaborar un programa que solicite el nuero de respuestas correctas, incorrectas y en el blanco correspondiente a alumnos, y muestres su ountaje final considerando que por cada respuesta correcta tendra 3 p8untos, respuestas incorrectas -1 y respuestas en balnco 0\n"
      ],
      "metadata": {
        "id": "xocDfIStULdC"
      }
    },
    {
      "cell_type": "code",
      "source": [
        "print(\"---------------------------------------------------------------------------------\")\n",
        "print(\"------------------NUMERO DE PREGUNTAS CORRECTAS E INCORERECTAS-------------------\")\n",
        "print(\"---------------------------------------------------------------------------------\")\n",
        "\n",
        "print(\"Ingresa el numero de respuestas correctas, incorrectas y en blanco correspondiente a alumnos\")\n",
        "rc = int(input(\"Respuestas correctas:\"))\n",
        "ri = int(input(\"Respuestas incorrectas:\"))\n",
        "rb = int(input(\"Respuestas en blanco:\"))\n",
        "\n",
        "puntaje = (rc*3)+(ri*-1)+(rb*0)\n",
        "\n",
        "print(\"El puntaje del alumno es: \",puntaje)\n",
        "\n"
      ],
      "metadata": {
        "colab": {
          "base_uri": "https://localhost:8080/"
        },
        "id": "EAItO3S2UpyY",
        "outputId": "fdc2a4c9-14ed-4b92-e05f-8330bfc99d22"
      },
      "execution_count": 2,
      "outputs": [
        {
          "output_type": "stream",
          "name": "stdout",
          "text": [
            "---------------------------------------------------------------------------------\n",
            "------------------NUMERO DE PREGUNTAS CORRECTAS E INCORERECTAS-------------------\n",
            "---------------------------------------------------------------------------------\n",
            "Ingresa el numero de respuestas correctas, incorrectas y en blanco correspondiente a alumnos\n",
            "Respuestas correctas:12\n",
            "Respuestas incorrectas:5\n",
            "Respuestas en blanco:6\n",
            "El puntaje del alumno es:  31\n"
          ]
        }
      ]
    },
    {
      "cell_type": "markdown",
      "source": [
        "##Ejercicio\n",
        "\n",
        "Se tienen los puntos A y B en ele cuadrante positivo del plano cartesiano, elabore el programa que permita obtner la distancia enetre A y B\n",
        "\n",
        "D = √(Ax -Bx)^2 + (Ay-By)^2"
      ],
      "metadata": {
        "id": "PsGqnW77Y3lG"
      }
    },
    {
      "cell_type": "code",
      "source": [
        "print(\"---------------------------------------------------------------------------------\")\n",
        "print(\"------------------PROGRAMA QUE CALCULA LA DISTANCIA ENTRE DOS PUNTOS-------------\")\n",
        "print(\"---------------------------------------------------------------------------------\")\n",
        "\n",
        "print(\"Ingresa los puntos A y B en el plano cartesiano\")\n",
        "ax = int(input(\"Ax:\"))\n",
        "ay = int(input(\"Ay:\"))\n",
        "bx = int(input(\"Bx:\"))\n",
        "by = int(input(\"By:\"))\n",
        "\n",
        "D=(pow((ax-bx),2)+((ay-by)**2))**0.5\n",
        "\n",
        "print(\"La distancia entre A y B es \",D)\n"
      ],
      "metadata": {
        "colab": {
          "base_uri": "https://localhost:8080/"
        },
        "id": "sTfXKzAcZl3d",
        "outputId": "b3885a9e-95a4-413f-b1bb-fb1dc5e615bc"
      },
      "execution_count": 12,
      "outputs": [
        {
          "output_type": "stream",
          "name": "stdout",
          "text": [
            "---------------------------------------------------------------------------------\n",
            "------------------PROGRAMA QUE CALCULA LA DISTANCIA ENTRE DOS PUNTOS-------------\n",
            "---------------------------------------------------------------------------------\n",
            "Ingresa los puntos A y B en el plano cartesiano\n",
            "Ax:154\n",
            "Ay:85\n",
            "Bx:92\n",
            "By:57\n",
            "La distancia entre A y B es  68.0294054067798\n"
          ]
        }
      ]
    },
    {
      "cell_type": "code",
      "source": [
        "import matplotlib.pyplot as plt\n",
        "import numpy as np\n",
        "%matplotlib inline\n",
        "fig, ax = plt.subplots()\n",
        "\n",
        "x = int(input(\"Ax:\"))\n",
        "y = int(input(\"Ay:\"))\n",
        "\n",
        "ax.plot([x], [y])\n",
        "\n",
        "\n",
        "plt.show()"
      ],
      "metadata": {
        "colab": {
          "base_uri": "https://localhost:8080/",
          "height": 106
        },
        "id": "9PMXCGX2f0IP",
        "outputId": "a07e3e73-6033-4629-d3e3-4491913e6790"
      },
      "execution_count": 45,
      "outputs": [
        {
          "output_type": "error",
          "ename": "SyntaxError",
          "evalue": "invalid syntax (<ipython-input-45-900248094ce0>, line 9)",
          "traceback": [
            "\u001b[0;36m  File \u001b[0;32m\"<ipython-input-45-900248094ce0>\"\u001b[0;36m, line \u001b[0;32m9\u001b[0m\n\u001b[0;31m    plt.plot(x.,y,\"--o\", label=\"$y $x\")\u001b[0m\n\u001b[0m               ^\u001b[0m\n\u001b[0;31mSyntaxError\u001b[0m\u001b[0;31m:\u001b[0m invalid syntax\n"
          ]
        }
      ]
    },
    {
      "cell_type": "markdown",
      "source": [
        "#Ejercicio 2\n",
        "\n",
        "se requiere obtner el promedio simple de un nestudiante apartir de sus tres calificaciones parciales N1, N2 y N3\n",
        "\n",
        "Datos de entrada: Promedio\n",
        "Salidad:\n",
        "N1\n",
        "N2\n",
        "N3\n"
      ],
      "metadata": {
        "id": "MjD5X8XnQJq2"
      }
    }
  ]
}