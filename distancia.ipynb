{
  "nbformat": 4,
  "nbformat_minor": 0,
  "metadata": {
    "colab": {
      "provenance": [],
      "authorship_tag": "ABX9TyODVL+8jgXVq5Pf5zhXc2Ov",
      "include_colab_link": true
    },
    "kernelspec": {
      "name": "python3",
      "display_name": "Python 3"
    },
    "language_info": {
      "name": "python"
    }
  },
  "cells": [
    {
      "cell_type": "markdown",
      "metadata": {
        "id": "view-in-github",
        "colab_type": "text"
      },
      "source": [
        "<a href=\"https://colab.research.google.com/github/Javier17-1/cLASE2/blob/main/distancia.ipynb\" target=\"_parent\"><img src=\"https://colab.research.google.com/assets/colab-badge.svg\" alt=\"Open In Colab\"/></a>"
      ]
    },
    {
      "cell_type": "code",
      "execution_count": 17,
      "metadata": {
        "colab": {
          "base_uri": "https://localhost:8080/"
        },
        "id": "HEZdcggRIRuj",
        "outputId": "697adf7a-3588-4f40-fddd-ae3fcadd2212"
      },
      "outputs": [
        {
          "output_type": "stream",
          "name": "stdout",
          "text": [
            "Dame la velocidad\n",
            "90\n",
            "Dame el teimpo\n",
            "50\n",
            "La distancia recorida es 4500\n"
          ]
        }
      ],
      "source": [
        "\n",
        "\n",
        "print(\"Dame la velocidad\")\n",
        "v=input()\n",
        "print(\"Dame el teimpo\")\n",
        "t=input()\n",
        "print(\"La distancia recorida es\",int(v)*int(t))\n",
        "\n"
      ]
    }
  ]
}